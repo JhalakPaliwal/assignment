{
 "cells": [
  {
   "cell_type": "code",
   "execution_count": 1,
   "id": "6415e921-a0ed-4127-8f0a-fd3c7931e223",
   "metadata": {},
   "outputs": [],
   "source": [
    "#Question 1"
   ]
  },
  {
   "cell_type": "code",
   "execution_count": 2,
   "id": "e295cd03-dda5-4673-81e4-1a2fc932caf8",
   "metadata": {},
   "outputs": [],
   "source": [
    "a = \"jhalak\""
   ]
  },
  {
   "cell_type": "code",
   "execution_count": 3,
   "id": "e3935b26-f83a-4567-b8de-dd590853bb4d",
   "metadata": {},
   "outputs": [
    {
     "data": {
      "text/plain": [
       "str"
      ]
     },
     "execution_count": 3,
     "metadata": {},
     "output_type": "execute_result"
    }
   ],
   "source": [
    "type(a)"
   ]
  },
  {
   "cell_type": "code",
   "execution_count": 4,
   "id": "6577b92a-510e-4afc-bada-231e56b765cc",
   "metadata": {},
   "outputs": [],
   "source": [
    "b=[1,2.6565,\"jhgf\",True,(5+8j)]"
   ]
  },
  {
   "cell_type": "code",
   "execution_count": 5,
   "id": "7b791804-6c08-4679-a5af-22fcc0686151",
   "metadata": {},
   "outputs": [
    {
     "data": {
      "text/plain": [
       "list"
      ]
     },
     "execution_count": 5,
     "metadata": {},
     "output_type": "execute_result"
    }
   ],
   "source": [
    "type(b)"
   ]
  },
  {
   "cell_type": "code",
   "execution_count": 6,
   "id": "44a6b7ee-649a-4429-9f83-6884fb993270",
   "metadata": {},
   "outputs": [],
   "source": [
    "c=556.78"
   ]
  },
  {
   "cell_type": "code",
   "execution_count": 7,
   "id": "c7cd5b33-90b0-4165-93be-454c8fd46929",
   "metadata": {},
   "outputs": [
    {
     "data": {
      "text/plain": [
       "float"
      ]
     },
     "execution_count": 7,
     "metadata": {},
     "output_type": "execute_result"
    }
   ],
   "source": [
    "type(c)"
   ]
  },
  {
   "cell_type": "code",
   "execution_count": 8,
   "id": "9e3e3afc-d0c0-422c-afe2-ebd5d104acf5",
   "metadata": {},
   "outputs": [],
   "source": [
    "d=(1,66.8,\"jhg\")"
   ]
  },
  {
   "cell_type": "code",
   "execution_count": 9,
   "id": "19a2874e-77f5-44d7-8194-6f16e6650240",
   "metadata": {},
   "outputs": [
    {
     "data": {
      "text/plain": [
       "tuple"
      ]
     },
     "execution_count": 9,
     "metadata": {},
     "output_type": "execute_result"
    }
   ],
   "source": [
    "type(d)"
   ]
  },
  {
   "cell_type": "code",
   "execution_count": null,
   "id": "3d8d436a-a6e1-4b6b-b027-59cc97c38fd9",
   "metadata": {},
   "outputs": [],
   "source": []
  },
  {
   "cell_type": "code",
   "execution_count": 10,
   "id": "88761260-0730-4c45-bd40-d729d1589c12",
   "metadata": {},
   "outputs": [],
   "source": [
    "#Question 2"
   ]
  },
  {
   "cell_type": "code",
   "execution_count": 12,
   "id": "374b0730-ee6a-4d08-9a16-48ac11b1a703",
   "metadata": {},
   "outputs": [],
   "source": [
    "var1=\"hhg\""
   ]
  },
  {
   "cell_type": "code",
   "execution_count": 13,
   "id": "7c680fa2-bb45-44b4-9687-f126792c51a7",
   "metadata": {},
   "outputs": [
    {
     "data": {
      "text/plain": [
       "str"
      ]
     },
     "execution_count": 13,
     "metadata": {},
     "output_type": "execute_result"
    }
   ],
   "source": [
    "type(var1)"
   ]
  },
  {
   "cell_type": "code",
   "execution_count": 14,
   "id": "4ecc6d0e-8775-4ab5-8015-382a324cebce",
   "metadata": {},
   "outputs": [],
   "source": [
    "var2='[DS,ML,Python]'"
   ]
  },
  {
   "cell_type": "code",
   "execution_count": 15,
   "id": "992abb10-fccb-4901-8ecf-f753c41d897a",
   "metadata": {},
   "outputs": [
    {
     "data": {
      "text/plain": [
       "str"
      ]
     },
     "execution_count": 15,
     "metadata": {},
     "output_type": "execute_result"
    }
   ],
   "source": [
    "type(var2)"
   ]
  },
  {
   "cell_type": "code",
   "execution_count": 16,
   "id": "3195f7b4-99a6-4024-a017-8a8bb490c63e",
   "metadata": {},
   "outputs": [],
   "source": [
    "var3=['DS','ML','Python']"
   ]
  },
  {
   "cell_type": "code",
   "execution_count": 17,
   "id": "50b52086-90ce-4e4e-bcf9-e8507d44ecc3",
   "metadata": {},
   "outputs": [
    {
     "data": {
      "text/plain": [
       "list"
      ]
     },
     "execution_count": 17,
     "metadata": {},
     "output_type": "execute_result"
    }
   ],
   "source": [
    "type(var3)"
   ]
  },
  {
   "cell_type": "code",
   "execution_count": 18,
   "id": "1c09f372-8221-4d2d-9300-6de8e7ac828e",
   "metadata": {},
   "outputs": [],
   "source": [
    "var4=1."
   ]
  },
  {
   "cell_type": "code",
   "execution_count": 19,
   "id": "2d0adf93-ddd8-4d66-b859-4215e6c6486d",
   "metadata": {},
   "outputs": [
    {
     "data": {
      "text/plain": [
       "float"
      ]
     },
     "execution_count": 19,
     "metadata": {},
     "output_type": "execute_result"
    }
   ],
   "source": [
    "type(var4)"
   ]
  },
  {
   "cell_type": "code",
   "execution_count": null,
   "id": "a7621a5a-709d-4fad-ac65-aceb4baf550f",
   "metadata": {},
   "outputs": [],
   "source": []
  },
  {
   "cell_type": "code",
   "execution_count": 20,
   "id": "d661f17a-ebb9-4bfb-b3cf-b17ee0c9500c",
   "metadata": {},
   "outputs": [],
   "source": [
    "#Question 3"
   ]
  },
  {
   "cell_type": "code",
   "execution_count": 21,
   "id": "86438762-7b26-43f3-8e3d-370f5ba0307d",
   "metadata": {},
   "outputs": [
    {
     "data": {
      "text/plain": [
       "2.0"
      ]
     },
     "execution_count": 21,
     "metadata": {},
     "output_type": "execute_result"
    }
   ],
   "source": [
    "10/5"
   ]
  },
  {
   "cell_type": "code",
   "execution_count": 24,
   "id": "651936c1-e7c9-426e-84ce-bf15d540720c",
   "metadata": {},
   "outputs": [
    {
     "data": {
      "text/plain": [
       "0"
      ]
     },
     "execution_count": 24,
     "metadata": {},
     "output_type": "execute_result"
    }
   ],
   "source": [
    "10%2"
   ]
  },
  {
   "cell_type": "code",
   "execution_count": 25,
   "id": "e87fb5eb-798a-4924-b660-2fccd96c382d",
   "metadata": {},
   "outputs": [
    {
     "data": {
      "text/plain": [
       "2"
      ]
     },
     "execution_count": 25,
     "metadata": {},
     "output_type": "execute_result"
    }
   ],
   "source": [
    "10//5"
   ]
  },
  {
   "cell_type": "code",
   "execution_count": 26,
   "id": "acb041b3-574a-4ee7-afcd-d67d7945b183",
   "metadata": {},
   "outputs": [
    {
     "data": {
      "text/plain": [
       "32"
      ]
     },
     "execution_count": 26,
     "metadata": {},
     "output_type": "execute_result"
    }
   ],
   "source": [
    "2**5"
   ]
  },
  {
   "cell_type": "code",
   "execution_count": null,
   "id": "442e0ea8-75a3-4a69-8bbc-27a91a32e0f2",
   "metadata": {},
   "outputs": [],
   "source": []
  },
  {
   "cell_type": "code",
   "execution_count": 27,
   "id": "d535f581-f315-43dc-b9b4-4b59cd15135a",
   "metadata": {},
   "outputs": [],
   "source": [
    "#Question 4"
   ]
  },
  {
   "cell_type": "code",
   "execution_count": 28,
   "id": "4e921baa-6791-4d89-ba67-a05fe99c86e5",
   "metadata": {},
   "outputs": [],
   "source": [
    "j=[1,1426.77,(8+9j),True,\"str\",False,\"('jhalak','778','87.8')\",7787,9.99,True]"
   ]
  },
  {
   "cell_type": "code",
   "execution_count": 30,
   "id": "89f03266-7cba-425e-9293-42ae5b1947e1",
   "metadata": {},
   "outputs": [
    {
     "name": "stdout",
     "output_type": "stream",
     "text": [
      "1\n",
      "<class 'int'>\n",
      "1426.77\n",
      "<class 'float'>\n",
      "(8+9j)\n",
      "<class 'complex'>\n",
      "True\n",
      "<class 'bool'>\n",
      "str\n",
      "<class 'str'>\n",
      "False\n",
      "<class 'bool'>\n",
      "('jhalak','778','87.8')\n",
      "<class 'str'>\n",
      "7787\n",
      "<class 'int'>\n",
      "9.99\n",
      "<class 'float'>\n",
      "True\n",
      "<class 'bool'>\n"
     ]
    }
   ],
   "source": [
    "for i in j  :\n",
    "    print(i)\n",
    "    print(type(i))\n",
    "\n"
   ]
  },
  {
   "cell_type": "code",
   "execution_count": 2,
   "id": "33dc3f73-23e4-4c65-9081-336e55274703",
   "metadata": {},
   "outputs": [],
   "source": [
    "#Question 5"
   ]
  },
  {
   "cell_type": "code",
   "execution_count": 3,
   "id": "fc65d6ea-dbf6-4942-ac9b-5fd151e73109",
   "metadata": {},
   "outputs": [
    {
     "name": "stdout",
     "output_type": "stream",
     "text": [
      "yes a is purely divisible by b\n",
      "4.0\n"
     ]
    }
   ],
   "source": [
    "a=16\n",
    "b=4\n",
    "while a%b==0:\n",
    "    print(\"yes a is purely divisible by b\")\n",
    "    print(a/b)\n",
    "    break"
   ]
  },
  {
   "cell_type": "code",
   "execution_count": 4,
   "id": "e6e3444a-9d6b-4f9b-96e8-6f7441052a63",
   "metadata": {},
   "outputs": [],
   "source": [
    "#Question 6"
   ]
  },
  {
   "cell_type": "code",
   "execution_count": 11,
   "id": "ed7bcd6c-0b8f-48b0-9bfd-58ebc7a26066",
   "metadata": {},
   "outputs": [
    {
     "name": "stdout",
     "output_type": "stream",
     "text": [
      "1\n",
      "print it is not divisible to 3\n",
      "4\n",
      "print it is not divisible to 3\n",
      "6\n",
      "yes it is divisible by 3\n",
      "8\n",
      "print it is not divisible to 3\n",
      "9\n",
      "yes it is divisible by 3\n",
      "43\n",
      "print it is not divisible to 3\n",
      "66\n",
      "yes it is divisible by 3\n",
      "87\n",
      "yes it is divisible by 3\n",
      "56\n",
      "print it is not divisible to 3\n",
      "76\n",
      "print it is not divisible to 3\n",
      "88\n",
      "print it is not divisible to 3\n",
      "97\n",
      "print it is not divisible to 3\n",
      "96\n",
      "yes it is divisible by 3\n",
      "87\n",
      "yes it is divisible by 3\n",
      "76\n",
      "print it is not divisible to 3\n",
      "54\n",
      "yes it is divisible by 3\n",
      "43\n",
      "print it is not divisible to 3\n",
      "32\n",
      "print it is not divisible to 3\n",
      "90\n",
      "yes it is divisible by 3\n",
      "80\n",
      "print it is not divisible to 3\n",
      "70\n",
      "print it is not divisible to 3\n",
      "60\n",
      "yes it is divisible by 3\n",
      "50\n",
      "print it is not divisible to 3\n",
      "40\n",
      "print it is not divisible to 3\n",
      "99\n",
      "yes it is divisible by 3\n",
      ".\n"
     ]
    }
   ],
   "source": [
    "k=[1,4,6,8,9,43,66,87,56,76,88,97,96,87,76,54,43,32,90,80,70,60,50,40,99]\n",
    "for i in k:\n",
    "    print(i)\n",
    "    if i%3==0:\n",
    "        print(\"yes it is divisible by 3\")\n",
    "    if i%3!=0:\n",
    "        print(\"print it is not divisible to 3\")\n",
    "else :\n",
    "    print(\".\")"
   ]
  },
  {
   "cell_type": "code",
   "execution_count": 12,
   "id": "09c7eec2-ab85-49da-b0d8-0036139c4c34",
   "metadata": {},
   "outputs": [],
   "source": [
    "#Question 7"
   ]
  },
  {
   "cell_type": "code",
   "execution_count": 13,
   "id": "89ff567f-f5c0-4bfa-bc40-77ea69c87452",
   "metadata": {},
   "outputs": [],
   "source": [
    "m=[878,\"hdhd88\",(7+9j),888.98,True]"
   ]
  },
  {
   "cell_type": "code",
   "execution_count": 14,
   "id": "43280fa1-5591-435b-93c7-8b7f17885514",
   "metadata": {},
   "outputs": [
    {
     "data": {
      "text/plain": [
       "878"
      ]
     },
     "execution_count": 14,
     "metadata": {},
     "output_type": "execute_result"
    }
   ],
   "source": [
    "m[0]"
   ]
  },
  {
   "cell_type": "code",
   "execution_count": 15,
   "id": "3fe19003-ced4-4330-bb92-3cac1e924f29",
   "metadata": {},
   "outputs": [],
   "source": [
    "m[0]=\"paliwal\""
   ]
  },
  {
   "cell_type": "code",
   "execution_count": 16,
   "id": "e05bd036-6287-4be4-9c50-ef5630e3e276",
   "metadata": {},
   "outputs": [
    {
     "data": {
      "text/plain": [
       "['paliwal', 'hdhd88', (7+9j), 888.98, True]"
      ]
     },
     "execution_count": 16,
     "metadata": {},
     "output_type": "execute_result"
    }
   ],
   "source": [
    "m"
   ]
  },
  {
   "cell_type": "code",
   "execution_count": 17,
   "id": "986ff38f-c765-4da9-9976-bba460ef2a22",
   "metadata": {},
   "outputs": [],
   "source": [
    "#Thus m is mutable"
   ]
  },
  {
   "cell_type": "code",
   "execution_count": 18,
   "id": "84caa416-4e2e-4ca8-9c37-857c9a14883d",
   "metadata": {},
   "outputs": [],
   "source": [
    "v=\"jha89ud\""
   ]
  },
  {
   "cell_type": "code",
   "execution_count": 19,
   "id": "b4cba549-db4c-491b-8a9a-979af098da0a",
   "metadata": {},
   "outputs": [
    {
     "data": {
      "text/plain": [
       "'j'"
      ]
     },
     "execution_count": 19,
     "metadata": {},
     "output_type": "execute_result"
    }
   ],
   "source": [
    "v[0]"
   ]
  },
  {
   "cell_type": "code",
   "execution_count": 20,
   "id": "d9724dde-04fd-4bd4-8bda-ba805d2588cb",
   "metadata": {},
   "outputs": [
    {
     "ename": "NameError",
     "evalue": "name 'u' is not defined",
     "output_type": "error",
     "traceback": [
      "\u001b[0;31m---------------------------------------------------------------------------\u001b[0m",
      "\u001b[0;31mNameError\u001b[0m                                 Traceback (most recent call last)",
      "Cell \u001b[0;32mIn[20], line 1\u001b[0m\n\u001b[0;32m----> 1\u001b[0m v[\u001b[38;5;241m0\u001b[39m]\u001b[38;5;241m=\u001b[39m\u001b[43mu\u001b[49m\n",
      "\u001b[0;31mNameError\u001b[0m: name 'u' is not defined"
     ]
    }
   ],
   "source": [
    "v[0]=u"
   ]
  },
  {
   "cell_type": "code",
   "execution_count": 21,
   "id": "833c7cda-f0b8-4e86-bc4b-ed94e9bae1a6",
   "metadata": {},
   "outputs": [],
   "source": [
    "#thus v is immutable"
   ]
  },
  {
   "cell_type": "code",
   "execution_count": null,
   "id": "6d49880f-5523-489d-90b8-77b1239df2a1",
   "metadata": {},
   "outputs": [],
   "source": []
  }
 ],
 "metadata": {
  "kernelspec": {
   "display_name": "Python 3 (ipykernel)",
   "language": "python",
   "name": "python3"
  },
  "language_info": {
   "codemirror_mode": {
    "name": "ipython",
    "version": 3
   },
   "file_extension": ".py",
   "mimetype": "text/x-python",
   "name": "python",
   "nbconvert_exporter": "python",
   "pygments_lexer": "ipython3",
   "version": "3.10.8"
  }
 },
 "nbformat": 4,
 "nbformat_minor": 5
}
